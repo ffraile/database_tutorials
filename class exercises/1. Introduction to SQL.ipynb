{
 "cells": [
  {
   "cell_type": "markdown",
   "source": [
    "**1.** Create a database named edem_programming"
   ],
   "metadata": {
    "collapsed": false
   }
  },
  {
   "cell_type": "markdown",
   "source": [
    "**2.** Create a table named Students. Students must have an identifier, a name, a continuous evaluation grade, and a written exam grade. You may add additional information elements you consider important. Choose the best type for each field in your data model."
   ],
   "metadata": {
    "collapsed": false
   }
  },
  {
   "cell_type": "markdown",
   "source": [
    "**3.** Insert into the table students one row per member of your group. This is your chance to grade your individual performance on the course.\n"
   ],
   "metadata": {
    "collapsed": false
   }
  },
  {
   "cell_type": "markdown",
   "source": [
    "**4.** Design a select query to select all students that have a continuous evaluation grade higher than five\n"
   ],
   "metadata": {
    "collapsed": false
   }
  },
  {
   "cell_type": "markdown",
   "source": [
    "**5.** Design a select query to select all students that pass the course (continuous evaluation higher than five and written examination higher than five)\n",
    "\n"
   ],
   "metadata": {
    "collapsed": false
   }
  }
 ],
 "metadata": {
  "kernelspec": {
   "display_name": "Python 3",
   "language": "python",
   "name": "python3"
  },
  "language_info": {
   "codemirror_mode": {
    "name": "ipython",
    "version": 2
   },
   "file_extension": ".py",
   "mimetype": "text/x-python",
   "name": "python",
   "nbconvert_exporter": "python",
   "pygments_lexer": "ipython2",
   "version": "2.7.6"
  },
  "pycharm": {
   "stem_cell": {
    "cell_type": "raw",
    "source": [],
    "metadata": {
     "collapsed": false
    }
   }
  }
 },
 "nbformat": 4,
 "nbformat_minor": 0
}