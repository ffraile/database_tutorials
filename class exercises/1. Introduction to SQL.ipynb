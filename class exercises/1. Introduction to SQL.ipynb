{
 "cells": [
  {
   "cell_type": "markdown",
   "metadata": {
    "collapsed": true,
    "pycharm": {
     "name": "#%% md\n",
     "is_executing": false
    }
   },
   "source": [
    "# Data Structure Management \n",
    "## CREATE Database\n",
    "\n",
    "First you need to create your database. The ``` CREATE DATABASE``` statement is used to create a new SQL Database:\n",
    "\n",
    "```sql:\n",
    "-- Create a database named `my_first_db`\n",
    "CREATE DATABASE my_first_db;\n",
    "```\n",
    "\n",
    "Notice that the statement creates a database called my_first_database. Note also two important things about SQL syntax:\n",
    "- **comments start with '--':** Just add two dash lines to add a comment, both line comment or in-line comments work this way.\n",
    "- **statements end with a separator (';')**: In SQL the statements are separated by a special character known as separator. You can change the default separator settings, but for now, let´s just assume that is the character ';'. You need to end each statement with this separator. This is very important if you use a command line client, if you dont enter the statement separator, it will not execute anything!\n",
    "- **statements are capitalized**: Your code will work either ways, but it is a common practice to capitalize statements\n",
    "   \n"
   ]
  },
  {
   "cell_type": "markdown",
   "source": [
    "## Show Databases\n",
    "The command ```SHOW DATABASES``` will show a list of the databases in your database engine:\n",
    "\n",
    "```sql:\n",
    "-- list databases\n",
    "CREATE DATABASE my_first_db;\n",
    "```\n",
    "\n"
   ],
   "metadata": {
    "collapsed": false
   }
  }
 ],
 "metadata": {
  "kernelspec": {
   "display_name": "Python 3",
   "language": "python",
   "name": "python3"
  },
  "language_info": {
   "codemirror_mode": {
    "name": "ipython",
    "version": 2
   },
   "file_extension": ".py",
   "mimetype": "text/x-python",
   "name": "python",
   "nbconvert_exporter": "python",
   "pygments_lexer": "ipython2",
   "version": "2.7.6"
  },
  "pycharm": {
   "stem_cell": {
    "cell_type": "raw",
    "source": [],
    "metadata": {
     "collapsed": false
    }
   }
  }
 },
 "nbformat": 4,
 "nbformat_minor": 0
}