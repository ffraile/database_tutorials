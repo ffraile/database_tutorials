{
 "cells": [
  {
   "cell_type": "markdown",
   "metadata": {
    "collapsed": true,
    "pycharm": {
     "name": "#%% md\n"
    }
   },
   "source": [
    "In these exercises you are going to work with the car_retail.sql database in the folder test_databases. Copy the contents of the file in the schema panel and click \n",
    "**build schema**. Then, build queries as instructed in the exercises below:\n",
    "\n"
   ]
  },
  {
   "cell_type": "markdown",
   "source": [
    "1. Write down a select query using a join statement to return, for each employee, the name of the department, and the first and last name of each employee."
   ],
   "metadata": {
    "collapsed": false
   }
  },
  {
   "cell_type": "markdown",
   "source": [
    "2. Write down a Select query using a join statement to return, for each department, the name of the department. If the department has any employees, it should return the last name of each employee in different records, in a column named employee_last_name. If the department does not have any employee, then this column should be empty.\n"
   ],
   "metadata": {
    "collapsed": false
   }
  },
  {
   "cell_type": "markdown",
   "source": [
    "3. Write down a select query using a join statement to return, for each car, the model of the car, the first name and last name of the customer, and the first name and last name of the employee that sold the car.\n"
   ],
   "metadata": {
    "collapsed": false,
    "pycharm": {
     "name": "#%% md\n"
    }
   }
  },
  {
   "cell_type": "markdown",
   "source": [
    "In these exercises you are going to work with the book_authors.sql database in the folder test_databases. Copy the contents of the file in the schema panel and click \n",
    "**build schema**. Then, build queries as instructed in the exercises below:\n",
    "\n",
    "4. write down a select query that returns the title of the book and the name of the corresponding author\n",
    "\n",
    "\n",
    "\n"
   ],
   "metadata": {
    "collapsed": false,
    "pycharm": {
     "name": "#%% md\n"
    }
   }
  }
 ],
 "metadata": {
  "kernelspec": {
   "display_name": "Python 3",
   "language": "python",
   "name": "python3"
  },
  "language_info": {
   "codemirror_mode": {
    "name": "ipython",
    "version": 2
   },
   "file_extension": ".py",
   "mimetype": "text/x-python",
   "name": "python",
   "nbconvert_exporter": "python",
   "pygments_lexer": "ipython2",
   "version": "2.7.6"
  },
  "pycharm": {
   "stem_cell": {
    "cell_type": "raw",
    "source": [
     "\n"
    ],
    "metadata": {
     "collapsed": false
    }
   }
  }
 },
 "nbformat": 4,
 "nbformat_minor": 0
}