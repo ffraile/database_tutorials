{
 "cells": [
  {
   "cell_type": "markdown",
   "metadata": {
    "collapsed": true,
    "pycharm": {
     "name": "#%% md\n"
    }
   },
   "source": [
    "# Indices and Keys\n",
    "Indices are structures created to optimize access to data. They are used to retrieve data from a relational database in an efficient way. Indices speeds up data retrieval in search and join operations in tables with many records, reducing the number of records that the engine reads to fetch the result. \n",
    "\n",
    "Keys are another concept somewhat related to indices. Keys special fields used to identify records within a table, they are a logical structure in our model primarily used to define relationships, whereas indices control the way the information is stored and retrieved in the database.\n",
    "\n",
    "On the other hand, the performance of write operations (insert and specially update) is penalised, so as a rule of thumb, you should use indices on columns that will be frequently used in where or join statements.   \n",
    "\n",
    "## Primary Key\n",
    "The primary key is a field or combination of fields that uniquely identifies a row in a table. The primary keys must be unique and Not nullable.\n",
    "\n",
    "## Syntax in create statement\n",
    "\n",
    "You can use the create statement to define the Primary Key and the indices in your table. Let us see it with an example:\n",
    "\n",
    "```sql\n",
    "CREATE TABLE Person (\n",
    "    PersonID INT NOT NULL AUTO_INCREMENT, -- Normal Integer. At most 4294967296 different PersonIds. \n",
    "    Name VARCHAR(30) DEFAULT '', -- Name with at most 30 characters. Default empty string.\n",
    "    IsAwesome TINYINT(1) DEFAULT 0, -- Either 0 (False) or 1 (True). Default 0    \n",
    "    AwesomenessLevel DECIMAL(13,3) DEFAULT 12.3, -- Decimal value with 13 digits of precision, up to 10^10 and with three digits after the decimal point. Defaults to 10.3\n",
    "    Gender ENUM('Male', 'Female', 'Non-Binary') DEFAULT 'Male', -- Either male, female, or non binary. Default 'Male'\n",
    "    Created TIMESTAMP DEFAULT CURRENT_TIMESTAMP, -- timestamp with the date of creation, defaults to current timestamp\n",
    "    PRIMARY KEY (PersonId),\n",
    "    INDEX current_timestamp_idx (Created)\n",
    "    );\n",
    "```\n",
    "\n",
    "In the example, we have used two statements in the *PersonID* column to ensure that it is a valid identifier:  ```NOT NULL``` to make it non nullable (no row with null PersonId is ever allowed), and ```AUTOINCREMENT``` to auto increment the value of the identifier automatically. \n",
    "Below, we have used the statement ```PRIMARY KEY (PersonId)``` to make it the primary key. \n",
    "\n",
    "The statement ```INDEX current_timestamp_idx (Created)``` creates a new index in the column Created. This will speed up search statements that use this column in the WHERE statement. \n",
    "\n",
    " \n",
    "In database engines like MySQL ```KEY``` is a synonym for ```INDEX```. In others like Oracle, they are not equivalent.  \n",
    "\n",
    " \n",
    " **IMPORTANT**\n",
    " Since the PersonId is now auto incremented by the engine, you should not include it in the field list in INSERT statements, as the engine will assign a value automatically.\n",
    " \n",
    " ## Index Syntax in Create Index statement\n",
    " You can also create an index on an existing table using the ```CREATE INDEX``` statement\n",
    " \n",
    "```sql\n",
    "# Create an index named gender_isawesome_idx on Person\n",
    "CREATE INDEX gender_isawesome_idx\n",
    "ON Person (Gender, IsAwesome);\n",
    "```\n",
    "\n",
    "\n"
   ]
  }
 ],
 "metadata": {
  "kernelspec": {
   "display_name": "Python 3",
   "language": "python",
   "name": "python3"
  },
  "language_info": {
   "codemirror_mode": {
    "name": "ipython",
    "version": 2
   },
   "file_extension": ".py",
   "mimetype": "text/x-python",
   "name": "python",
   "nbconvert_exporter": "python",
   "pygments_lexer": "ipython2",
   "version": "2.7.6"
  },
  "pycharm": {
   "stem_cell": {
    "cell_type": "raw",
    "source": [],
    "metadata": {
     "collapsed": false
    }
   }
  }
 },
 "nbformat": 4,
 "nbformat_minor": 0
}