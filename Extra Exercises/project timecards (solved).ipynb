{
 "cells": [
  {
   "cell_type": "markdown",
   "metadata": {
    "collapsed": true,
    "pycharm": {
     "name": "#%% md\n"
    }
   },
   "source": [
    "# Project Timecards\n",
    "You work for a startup IT company that performs web development for outside companies. \n",
    "Projects are typically executed by a team of employees, so one or more employees can be assigned to the same project.\n",
    "In any given week, employees might be working on one or more projects. \n",
    "To keep track of what projects, you need to develop a database that keeps in a timecard entity, records of the numbers of hour that each employee worked in each project each week.\n",
    "Draw a database model including entity models for the project, the employees, timecards, and their associations.\n",
    "\n",
    "## Solution\n",
    "The following diagram represents a possible solution: \n",
    "\n",
    "![Timecards model](https://github.com/ffraile/database_tutorials/blob/main/Extra%20Exercises/img/timecards.png?raw=true)\n",
    "\n",
    "\n"
   ]
  }
 ],
 "metadata": {
  "kernelspec": {
   "display_name": "Python 3",
   "language": "python",
   "name": "python3"
  },
  "language_info": {
   "codemirror_mode": {
    "name": "ipython",
    "version": 2
   },
   "file_extension": ".py",
   "mimetype": "text/x-python",
   "name": "python",
   "nbconvert_exporter": "python",
   "pygments_lexer": "ipython2",
   "version": "2.7.6"
  },
  "pycharm": {
   "stem_cell": {
    "cell_type": "raw",
    "source": [],
    "metadata": {
     "collapsed": false
    }
   }
  }
 },
 "nbformat": 4,
 "nbformat_minor": 0
}